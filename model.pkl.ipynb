{
 "cells": [
  {
   "cell_type": "code",
   "execution_count": 1,
   "id": "2b5cf444-804b-412d-b49c-50bb9efcfee5",
   "metadata": {},
   "outputs": [],
   "source": [
    "import pandas as pd\n",
    "from sklearn.preprocessing import LabelEncoder"
   ]
  },
  {
   "cell_type": "code",
   "execution_count": 2,
   "id": "999131f0-ff70-4477-a5cd-395c8370b837",
   "metadata": {},
   "outputs": [],
   "source": [
    "df = pd.read_csv(\"Crop_data.csv\")"
   ]
  },
  {
   "cell_type": "code",
   "execution_count": 3,
   "id": "719a251e-84ab-4e87-be56-e2fd20092c77",
   "metadata": {},
   "outputs": [
    {
     "name": "stdout",
     "output_type": "stream",
     "text": [
      "Missing values:\n",
      " N              0\n",
      "P              0\n",
      "K              0\n",
      "Temperature    0\n",
      "Humidity       0\n",
      "pH             0\n",
      "Rainfall       0\n",
      "Latitude       0\n",
      "Longitude      0\n",
      "Crop           0\n",
      "dtype: int64\n"
     ]
    }
   ],
   "source": [
    "print(\"Missing values:\\n\", df.isnull().sum())"
   ]
  },
  {
   "cell_type": "code",
   "execution_count": 4,
   "id": "3a93ffb8-fc55-4ee7-94f5-ca1be57a0ecb",
   "metadata": {},
   "outputs": [],
   "source": [
    "df.fillna(df.median(numeric_only=True), inplace=True)"
   ]
  },
  {
   "cell_type": "code",
   "execution_count": 5,
   "id": "c4567028-4ff9-496f-b404-484a3d835a27",
   "metadata": {},
   "outputs": [],
   "source": [
    "le = LabelEncoder()\n",
    "df['Crop'] = le.fit_transform(df['Crop'])"
   ]
  },
  {
   "cell_type": "code",
   "execution_count": 6,
   "id": "87c3f738-06ae-4352-9ae3-30c4a9eafc3b",
   "metadata": {},
   "outputs": [],
   "source": [
    "df.to_csv(\"crop_cleaned.csv\", index=False)"
   ]
  },
  {
   "cell_type": "code",
   "execution_count": 7,
   "id": "9610dea3-f8be-417b-84db-552738854382",
   "metadata": {},
   "outputs": [
    {
     "data": {
      "text/html": [
       "<div>\n",
       "<style scoped>\n",
       "    .dataframe tbody tr th:only-of-type {\n",
       "        vertical-align: middle;\n",
       "    }\n",
       "\n",
       "    .dataframe tbody tr th {\n",
       "        vertical-align: top;\n",
       "    }\n",
       "\n",
       "    .dataframe thead th {\n",
       "        text-align: right;\n",
       "    }\n",
       "</style>\n",
       "<table border=\"1\" class=\"dataframe\">\n",
       "  <thead>\n",
       "    <tr style=\"text-align: right;\">\n",
       "      <th></th>\n",
       "      <th>N</th>\n",
       "      <th>P</th>\n",
       "      <th>K</th>\n",
       "      <th>Temperature</th>\n",
       "      <th>Humidity</th>\n",
       "      <th>pH</th>\n",
       "      <th>Rainfall</th>\n",
       "      <th>Latitude</th>\n",
       "      <th>Longitude</th>\n",
       "      <th>Crop</th>\n",
       "    </tr>\n",
       "  </thead>\n",
       "  <tbody>\n",
       "    <tr>\n",
       "      <th>0</th>\n",
       "      <td>102</td>\n",
       "      <td>79</td>\n",
       "      <td>113</td>\n",
       "      <td>24.35</td>\n",
       "      <td>47.27</td>\n",
       "      <td>5.78</td>\n",
       "      <td>284.33</td>\n",
       "      <td>21.4104</td>\n",
       "      <td>73.4537</td>\n",
       "      <td>1</td>\n",
       "    </tr>\n",
       "    <tr>\n",
       "      <th>1</th>\n",
       "      <td>71</td>\n",
       "      <td>142</td>\n",
       "      <td>80</td>\n",
       "      <td>42.15</td>\n",
       "      <td>90.88</td>\n",
       "      <td>4.36</td>\n",
       "      <td>278.35</td>\n",
       "      <td>19.1361</td>\n",
       "      <td>74.3164</td>\n",
       "      <td>3</td>\n",
       "    </tr>\n",
       "    <tr>\n",
       "      <th>2</th>\n",
       "      <td>60</td>\n",
       "      <td>36</td>\n",
       "      <td>35</td>\n",
       "      <td>20.84</td>\n",
       "      <td>14.83</td>\n",
       "      <td>6.86</td>\n",
       "      <td>108.02</td>\n",
       "      <td>20.2069</td>\n",
       "      <td>75.2012</td>\n",
       "      <td>14</td>\n",
       "    </tr>\n",
       "    <tr>\n",
       "      <th>3</th>\n",
       "      <td>83</td>\n",
       "      <td>43</td>\n",
       "      <td>101</td>\n",
       "      <td>25.77</td>\n",
       "      <td>52.53</td>\n",
       "      <td>8.79</td>\n",
       "      <td>97.64</td>\n",
       "      <td>21.2843</td>\n",
       "      <td>75.9873</td>\n",
       "      <td>0</td>\n",
       "    </tr>\n",
       "    <tr>\n",
       "      <th>4</th>\n",
       "      <td>106</td>\n",
       "      <td>33</td>\n",
       "      <td>83</td>\n",
       "      <td>28.74</td>\n",
       "      <td>51.31</td>\n",
       "      <td>4.71</td>\n",
       "      <td>136.56</td>\n",
       "      <td>19.9024</td>\n",
       "      <td>76.6478</td>\n",
       "      <td>6</td>\n",
       "    </tr>\n",
       "  </tbody>\n",
       "</table>\n",
       "</div>"
      ],
      "text/plain": [
       "     N    P    K  Temperature  Humidity    pH  Rainfall  Latitude  Longitude  \\\n",
       "0  102   79  113        24.35     47.27  5.78    284.33   21.4104    73.4537   \n",
       "1   71  142   80        42.15     90.88  4.36    278.35   19.1361    74.3164   \n",
       "2   60   36   35        20.84     14.83  6.86    108.02   20.2069    75.2012   \n",
       "3   83   43  101        25.77     52.53  8.79     97.64   21.2843    75.9873   \n",
       "4  106   33   83        28.74     51.31  4.71    136.56   19.9024    76.6478   \n",
       "\n",
       "   Crop  \n",
       "0     1  \n",
       "1     3  \n",
       "2    14  \n",
       "3     0  \n",
       "4     6  "
      ]
     },
     "execution_count": 7,
     "metadata": {},
     "output_type": "execute_result"
    }
   ],
   "source": [
    "df.head()"
   ]
  },
  {
   "cell_type": "code",
   "execution_count": null,
   "id": "4fc819d6-e306-4fc2-b616-8dc56c736a0a",
   "metadata": {},
   "outputs": [],
   "source": []
  }
 ],
 "metadata": {
  "kernelspec": {
   "display_name": "Python 3 (ipykernel)",
   "language": "python",
   "name": "python3"
  },
  "language_info": {
   "codemirror_mode": {
    "name": "ipython",
    "version": 3
   },
   "file_extension": ".py",
   "mimetype": "text/x-python",
   "name": "python",
   "nbconvert_exporter": "python",
   "pygments_lexer": "ipython3",
   "version": "3.12.7"
  }
 },
 "nbformat": 4,
 "nbformat_minor": 5
}
