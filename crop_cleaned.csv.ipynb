{
 "cells": [
  {
   "cell_type": "code",
   "execution_count": 1,
   "id": "2b5cf444-804b-412d-b49c-50bb9efcfee5",
   "metadata": {},
   "outputs": [],
   "source": [
    "import pandas as pd\n",
    "from sklearn.preprocessing import LabelEncoder\n",
    "import joblib"
   ]
  },
  {
   "cell_type": "code",
   "execution_count": 2,
   "id": "37de8d5d-adb7-4554-a95b-227a3fbb72ab",
   "metadata": {},
   "outputs": [],
   "source": [
    "df = pd.read_csv(\"Crop_data.csv\")"
   ]
  },
  {
   "cell_type": "code",
   "execution_count": 3,
   "id": "402b027e-3549-4706-a03b-cdd6f7ed80c4",
   "metadata": {},
   "outputs": [
    {
     "name": "stdout",
     "output_type": "stream",
     "text": [
      "Missing values:\n",
      " N                          0\n",
      "P                          0\n",
      "K                          0\n",
      "Temperature                0\n",
      "Humidity                   0\n",
      "pH                         0\n",
      "Rainfall                   0\n",
      "Latitude                   0\n",
      "Longitude                  0\n",
      "Soil_Type                  0\n",
      "Crop                       0\n",
      "Best Sowing Time           0\n",
      "Duration Time (Approx.)    0\n",
      "Harvesting Time            0\n",
      "dtype: int64\n"
     ]
    }
   ],
   "source": [
    "print(\"Missing values:\\n\", df.isnull().sum())"
   ]
  },
  {
   "cell_type": "code",
   "execution_count": 4,
   "id": "b859b839-fa4c-45e9-9242-727017e37f54",
   "metadata": {},
   "outputs": [],
   "source": [
    "df.fillna(df.median(numeric_only=True), inplace=True)"
   ]
  },
  {
   "cell_type": "code",
   "execution_count": 5,
   "id": "a073cc3f-5334-4195-b9d9-75094f3f6fbf",
   "metadata": {},
   "outputs": [],
   "source": [
    "SOIL_TYPES = [\"Alluvial\", \"Black (Regur)\", \"Red & Yellow\", \"Laterite\", \"Arid (Desert)\", \"Forest / Mountain\", \"Saline / Alkaline\", \"Peaty / Marshy\"]"
   ]
  },
  {
   "cell_type": "code",
   "execution_count": 6,
   "id": "d9bf4b45-4532-4279-b997-e14da9e723f7",
   "metadata": {},
   "outputs": [],
   "source": [
    "soil_type_map = {\n",
    "    \"Alluvial\": 1, \n",
    "    \"Black (Regur)\": 2, \n",
    "    \"Red & Yellow\": 3, \n",
    "    \"Laterite\": 4, \n",
    "    \"Arid (Desert)\": 5, \n",
    "    \"Forest / Mountain\": 6, \n",
    "    \"Saline / Alkaline\": 7, \n",
    "    \"Peaty / Marshy\": 8\n",
    "}"
   ]
  },
  {
   "cell_type": "code",
   "execution_count": 7,
   "id": "007d81af-4a8f-4fda-9fa2-8af52440b9e7",
   "metadata": {},
   "outputs": [],
   "source": [
    "df['Soil_Type_Encoded'] = df['Soil_Type'].map(soil_type_map)"
   ]
  },
  {
   "cell_type": "code",
   "execution_count": 8,
   "id": "ee171e4f-aa31-4f38-ae35-6bffe75429fc",
   "metadata": {},
   "outputs": [],
   "source": [
    "df_ml = df.drop(columns=['Soil_Type', 'Best Sowing Time', 'Duration Time (Approx.)', 'Harvesting Time'])"
   ]
  },
  {
   "cell_type": "code",
   "execution_count": 9,
   "id": "19d46f03-6056-46c4-9f0d-7d805045c1f7",
   "metadata": {},
   "outputs": [],
   "source": [
    "crop_le = LabelEncoder()\n",
    "df_ml['Crop'] = crop_le.fit_transform(df_ml['Crop'])"
   ]
  },
  {
   "cell_type": "code",
   "execution_count": 10,
   "id": "a3e86725-4f42-49f4-b036-acdb090fc338",
   "metadata": {},
   "outputs": [],
   "source": [
    "df_ml.to_csv(\"crop_cleaned.csv\", index=False)"
   ]
  },
  {
   "cell_type": "code",
   "execution_count": 11,
   "id": "b527f175-1888-4206-8017-045fbc421eb4",
   "metadata": {},
   "outputs": [
    {
     "name": "stdout",
     "output_type": "stream",
     "text": [
      "\n",
      "--- Cleaned Data Head (ML Ready) ---\n",
      "     N    P    K  Temperature  Humidity    pH  Rainfall  Latitude  Longitude  \\\n",
      "0  102   79  113        24.35     47.27  5.78    284.33   21.4104    73.4537   \n",
      "1   71  142   80        42.15     90.88  4.36    278.35   19.1361    74.3164   \n",
      "2   60   36   35        20.84     14.83  6.86    108.02   20.2069    75.2012   \n",
      "3   83   43  101        25.77     52.53  8.79     97.64   21.2843    75.9873   \n",
      "4  106   33   83        28.74     51.31  4.71    136.56   19.9024    76.6478   \n",
      "\n",
      "   Crop  Soil_Type_Encoded  \n",
      "0     1                  4  \n",
      "1     3                  3  \n",
      "2    14                  1  \n",
      "3     0                  6  \n",
      "4     6                  2  \n",
      "\n",
      "--- Cleaned Data Columns ---\n",
      "['N', 'P', 'K', 'Temperature', 'Humidity', 'pH', 'Rainfall', 'Latitude', 'Longitude', 'Crop', 'Soil_Type_Encoded']\n"
     ]
    }
   ],
   "source": [
    "print(\"\\n--- Cleaned Data Head (ML Ready) ---\")\n",
    "print(df_ml.head())\n",
    "print(\"\\n--- Cleaned Data Columns ---\")\n",
    "print(df_ml.columns.tolist())"
   ]
  },
  {
   "cell_type": "code",
   "execution_count": null,
   "id": "9bf0de90-7c22-46fb-a5dc-bae2339d5992",
   "metadata": {},
   "outputs": [],
   "source": []
  }
 ],
 "metadata": {
  "kernelspec": {
   "display_name": "Python 3 (ipykernel)",
   "language": "python",
   "name": "python3"
  },
  "language_info": {
   "codemirror_mode": {
    "name": "ipython",
    "version": 3
   },
   "file_extension": ".py",
   "mimetype": "text/x-python",
   "name": "python",
   "nbconvert_exporter": "python",
   "pygments_lexer": "ipython3",
   "version": "3.12.7"
  }
 },
 "nbformat": 4,
 "nbformat_minor": 5
}
